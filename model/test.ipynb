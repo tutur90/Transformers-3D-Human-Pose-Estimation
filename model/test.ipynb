{
 "cells": [
  {
   "cell_type": "code",
   "execution_count": 9,
   "metadata": {},
   "outputs": [
    {
     "data": {
      "text/plain": [
       "array([6, 1, 2])"
      ]
     },
     "execution_count": 9,
     "metadata": {},
     "output_type": "execute_result"
    }
   ],
   "source": [
    "import numpy as np\n",
    "\n",
    "\n",
    "input_matrix = np.random.randint(0, 10, (3)) # 3x3 matrix with random integers from 0 to 9\n",
    "input_matrix"
   ]
  },
  {
   "cell_type": "code",
   "execution_count": 10,
   "metadata": {},
   "outputs": [
    {
     "data": {
      "text/plain": [
       "array([[8, 6, 2],\n",
       "       [0, 9, 5],\n",
       "       [3, 7, 2],\n",
       "       [4, 3, 5],\n",
       "       [7, 4, 8],\n",
       "       [9, 1, 0],\n",
       "       [3, 8, 6],\n",
       "       [3, 3, 8],\n",
       "       [9, 8, 6],\n",
       "       [4, 1, 4]])"
      ]
     },
     "execution_count": 10,
     "metadata": {},
     "output_type": "execute_result"
    }
   ],
   "source": [
    "weights = np.random.randint(0, 10, (10, 3)) # 3x3 matrix with random integers from 0 to 9\n",
    "weights"
   ]
  },
  {
   "cell_type": "code",
   "execution_count": 11,
   "metadata": {},
   "outputs": [
    {
     "data": {
      "text/plain": [
       "array([58, 19, 29, 37, 62, 55, 38, 37, 74, 33])"
      ]
     },
     "execution_count": 11,
     "metadata": {},
     "output_type": "execute_result"
    }
   ],
   "source": [
    "out = weights @ input_matrix\n",
    "out"
   ]
  },
  {
   "cell_type": "code",
   "execution_count": 12,
   "metadata": {},
   "outputs": [
    {
     "data": {
      "text/plain": [
       "(array([6., 1., 2.]),\n",
       " array([1.2227344e-29]),\n",
       " 3,\n",
       " array([27.68775274, 10.64994595,  7.61360621]))"
      ]
     },
     "execution_count": 12,
     "metadata": {},
     "output_type": "execute_result"
    }
   ],
   "source": [
    "np.linalg.lstsq(weights, out, rcond=None)"
   ]
  },
  {
   "cell_type": "code",
   "execution_count": 13,
   "metadata": {},
   "outputs": [
    {
     "data": {
      "text/plain": [
       "array([[8, 6, 2],\n",
       "       [0, 9, 5],\n",
       "       [3, 7, 2],\n",
       "       [4, 3, 5],\n",
       "       [7, 4, 8],\n",
       "       [9, 1, 0],\n",
       "       [3, 8, 6],\n",
       "       [3, 3, 8],\n",
       "       [9, 8, 6],\n",
       "       [4, 1, 4]])"
      ]
     },
     "execution_count": 13,
     "metadata": {},
     "output_type": "execute_result"
    }
   ],
   "source": [
    "A = weights[:, :3]\n",
    "A"
   ]
  },
  {
   "cell_type": "code",
   "execution_count": 14,
   "metadata": {},
   "outputs": [
    {
     "data": {
      "text/plain": [
       "array([58, 19, 29])"
      ]
     },
     "execution_count": 14,
     "metadata": {},
     "output_type": "execute_result"
    }
   ],
   "source": [
    "b = out[:3]\n",
    "b"
   ]
  },
  {
   "cell_type": "code",
   "execution_count": 15,
   "metadata": {},
   "outputs": [
    {
     "ename": "LinAlgError",
     "evalue": "Last 2 dimensions of the array must be square",
     "output_type": "error",
     "traceback": [
      "\u001b[0;31m---------------------------------------------------------------------------\u001b[0m",
      "\u001b[0;31mLinAlgError\u001b[0m                               Traceback (most recent call last)",
      "Cell \u001b[0;32mIn[15], line 1\u001b[0m\n\u001b[0;32m----> 1\u001b[0m b \u001b[38;5;241m@\u001b[39m \u001b[43mnp\u001b[49m\u001b[38;5;241;43m.\u001b[39;49m\u001b[43mlinalg\u001b[49m\u001b[38;5;241;43m.\u001b[39;49m\u001b[43minv\u001b[49m\u001b[43m(\u001b[49m\u001b[43mA\u001b[49m\u001b[43m)\u001b[49m\n",
      "File \u001b[0;32m<__array_function__ internals>:180\u001b[0m, in \u001b[0;36minv\u001b[0;34m(*args, **kwargs)\u001b[0m\n",
      "File \u001b[0;32m~/.local/lib/python3.10/site-packages/numpy/linalg/linalg.py:547\u001b[0m, in \u001b[0;36minv\u001b[0;34m(a)\u001b[0m\n\u001b[1;32m    545\u001b[0m a, wrap \u001b[38;5;241m=\u001b[39m _makearray(a)\n\u001b[1;32m    546\u001b[0m _assert_stacked_2d(a)\n\u001b[0;32m--> 547\u001b[0m \u001b[43m_assert_stacked_square\u001b[49m\u001b[43m(\u001b[49m\u001b[43ma\u001b[49m\u001b[43m)\u001b[49m\n\u001b[1;32m    548\u001b[0m t, result_t \u001b[38;5;241m=\u001b[39m _commonType(a)\n\u001b[1;32m    550\u001b[0m signature \u001b[38;5;241m=\u001b[39m \u001b[38;5;124m'\u001b[39m\u001b[38;5;124mD->D\u001b[39m\u001b[38;5;124m'\u001b[39m \u001b[38;5;28;01mif\u001b[39;00m isComplexType(t) \u001b[38;5;28;01melse\u001b[39;00m \u001b[38;5;124m'\u001b[39m\u001b[38;5;124md->d\u001b[39m\u001b[38;5;124m'\u001b[39m\n",
      "File \u001b[0;32m~/.local/lib/python3.10/site-packages/numpy/linalg/linalg.py:204\u001b[0m, in \u001b[0;36m_assert_stacked_square\u001b[0;34m(*arrays)\u001b[0m\n\u001b[1;32m    202\u001b[0m m, n \u001b[38;5;241m=\u001b[39m a\u001b[38;5;241m.\u001b[39mshape[\u001b[38;5;241m-\u001b[39m\u001b[38;5;241m2\u001b[39m:]\n\u001b[1;32m    203\u001b[0m \u001b[38;5;28;01mif\u001b[39;00m m \u001b[38;5;241m!=\u001b[39m n:\n\u001b[0;32m--> 204\u001b[0m     \u001b[38;5;28;01mraise\u001b[39;00m LinAlgError(\u001b[38;5;124m'\u001b[39m\u001b[38;5;124mLast 2 dimensions of the array must be square\u001b[39m\u001b[38;5;124m'\u001b[39m)\n",
      "\u001b[0;31mLinAlgError\u001b[0m: Last 2 dimensions of the array must be square"
     ]
    }
   ],
   "source": [
    "b @ np.linalg.inv(A)"
   ]
  },
  {
   "cell_type": "code",
   "execution_count": null,
   "metadata": {},
   "outputs": [],
   "source": [
    "# input_1 * weights[0, 0] + input_2 * weights[0, 1] + input_3 * weights[0,2] =out[0]\n",
    "# input_1 * weights[1, 0] + input_2 * weights[1, 1] + input_3 * weights[1,2] =out[1]\n",
    "# input_1 * weights[2, 0] + input_2 * weights[2, 1] + input_3 * weights[2,2] =out[2]"
   ]
  },
  {
   "cell_type": "code",
   "execution_count": null,
   "metadata": {},
   "outputs": [
    {
     "name": "stdout",
     "output_type": "stream",
     "text": [
      "tensor([0.4587, 0.7028, 0.5364])\n",
      "tensor([[ 1.,  1.,  0.,  1.],\n",
      "        [-1.,  0.,  1.,  1.],\n",
      "        [ 0., -1., -1.,  1.]])\n",
      "torch.Size([3, 4])\n",
      "torch.Size([4])\n",
      "tensor([-0.2441, -0.0777,  0.1664,  1.6979])\n",
      "tensor([0.4587, 0.7028, 0.5364])\n"
     ]
    }
   ],
   "source": [
    "import torch\n",
    "import torch.nn as nn\n",
    "\n",
    "class RevLinear(nn.Module):\n",
    "    def __init__(self, in_features, out_features, A=None, bias = True):\n",
    "        super(RevLinear, self).__init__()\n",
    "        self.in_features = in_features\n",
    "        self.out_features = out_features\n",
    "        if A is None:\n",
    "            self.A = nn.Parameter(torch.rand(out_features, in_features))\n",
    "            \n",
    "        else:\n",
    "            self.A = A.T\n",
    "            \n",
    "        if bias:\n",
    "            self.bias = nn.Parameter(torch.zeros(out_features))\n",
    "        else:\n",
    "            self.bias = None\n",
    "\n",
    "        \n",
    "        \n",
    "    def forward(self, x, inverse=False):\n",
    "        if not inverse:\n",
    "            x = x @ self.A.T\n",
    "            print(x.shape)\n",
    "            if self.bias is not None:\n",
    "                x = x + self.bias\n",
    "            return  x\n",
    "        else:\n",
    "            if self.bias is not None:\n",
    "                x = x - self.bias\n",
    "            x = torch.linalg.lstsq(self.A, x)[0]\n",
    "            return x\n",
    "\n",
    "input_size = 3\n",
    "\n",
    "input_matrix = torch.rand(input_size)\n",
    "\n",
    "print(input_matrix)\n",
    "\n",
    "A = create_diff_matrix(input_size)\n",
    "\n",
    "A = torch.cat([A, torch.ones(input_size,1)], dim=1)\n",
    "\n",
    "print(A)\n",
    "\n",
    "print(A.shape)\n",
    "\n",
    "rv = RevLinear(input_size, A.shape[0], bias=False, A = A)\n",
    "\n",
    "# rv = RevLinear(input_size, 20)\n",
    "\n",
    "# rv2 = RevLinear(10, 10)\n",
    "\n",
    "\n",
    "\n",
    "out = rv(input_matrix)\n",
    "print(out)\n",
    "\n",
    "# out = rv2(out)\n",
    "\n",
    "\n",
    "\n",
    "out = rv(out, inverse=True)\n",
    "\n",
    "print(out)\n",
    "\n",
    "# torch.linalg.inv(A)\n"
   ]
  },
  {
   "cell_type": "code",
   "execution_count": null,
   "metadata": {},
   "outputs": [],
   "source": [
    "class RevLinear(nn.Module):\n",
    "    def __init__(self, in_features, out_features, A=None, bias = True):\n",
    "        super(RevLinear, self).__init__()\n",
    "        self.in_features = in_features\n",
    "        self.out_features = out_features\n",
    "        if A is None:\n",
    "            self.A = nn.Parameter(torch.rand( out_features, in_features))\n",
    "            \n",
    "        else:\n",
    "            self.A = torch.tensor(A)\n",
    "            \n",
    "        if bias:\n",
    "            self.bias = nn.Parameter(torch.zeros(out_features))\n",
    "        else:\n",
    "            self.bias = None\n",
    "\n",
    "        \n",
    "        \n",
    "    def forward(self, x, inverse=False):\n",
    "\n",
    "        if not inverse:\n",
    "            x = x @ self.A.mT\n",
    "\n",
    "            if self.bias is not None:\n",
    "                x = x + self.bias\n",
    "            return x\n",
    "        else:\n",
    "            if self.bias is not None:\n",
    "                x = x - self.bias\n",
    "            s = list(x.shape)\n",
    "            A = self.A.repeat(np.prod(s[:-1]),1,1).reshape(s[:-1]+[self.out_features, self.in_features])\n",
    "            x = torch.linalg.lstsq(A, x)[0]\n",
    "            return x\n",
    "\n",
    "b = 4\n",
    "\n",
    "input_matrix = torch.rand((b,b,3), dtype=torch.float32)\n",
    "print(input_matrix)\n",
    "\n",
    "rv = RevLinear(3, 10, bias=True)\n",
    "\n",
    "rv2 = RevLinear(10, 10)\n",
    "\n",
    "\n",
    "\n",
    "out = rv(input_matrix)\n",
    "print(out)\n",
    "\n",
    "# out = rv2(out)\n",
    "\n",
    "# print(out)\n",
    "\n",
    "\n",
    "out = rv(out, inverse=True)\n",
    "\n",
    "print(out)"
   ]
  },
  {
   "cell_type": "code",
   "execution_count": null,
   "metadata": {},
   "outputs": [],
   "source": [
    "def create_diff_line(n, i, j):\n",
    "    t = torch.zeros(n)\n",
    "    t[i] = 1\n",
    "    t[j] = -1\n",
    "    return t\n",
    "\n",
    "def create_diff_matrix(n):\n",
    "    return torch.stack([create_diff_line(n, i, j) for i in range(n) for j in range(i+1, n)]).T"
   ]
  },
  {
   "cell_type": "code",
   "execution_count": 16,
   "metadata": {},
   "outputs": [
    {
     "name": "stdout",
     "output_type": "stream",
     "text": [
      "tensor([2., 5., 6., 0., 0., 0., 2., 2., 2., 4.])\n",
      "tensor([-3.0000, -4.0000,  2.0000,  2.0000,  2.0000,  0.0000,  0.0000,  0.0000,\n",
      "        -2.0000, -1.0000,  5.0000,  5.0000,  5.0000,  3.0000,  3.0000,  3.0000,\n",
      "         1.0000,  6.0000,  6.0000,  6.0000,  4.0000,  4.0000,  4.0000,  2.0000,\n",
      "         0.0000,  0.0000, -2.0000, -2.0000, -2.0000, -4.0000,  0.0000, -2.0000,\n",
      "        -2.0000, -2.0000, -4.0000, -2.0000, -2.0000, -2.0000, -4.0000,  0.0000,\n",
      "         0.0000, -2.0000,  0.0000, -2.0000, -2.0000,  2.3000])\n",
      "tensor(2.3842e-07)\n",
      "tensor([2.0000e+00, 5.0000e+00, 6.0000e+00, 2.3842e-07, 0.0000e+00, 4.7684e-07,\n",
      "        2.0000e+00, 2.0000e+00, 2.0000e+00, 4.0000e+00])\n"
     ]
    }
   ],
   "source": [
    "import torch\n",
    "import torch.nn as nn\n",
    "\n",
    "class RevLinear(nn.Module):\n",
    "    def __init__(self, in_features, out_features, A=None, bias = True):\n",
    "        super(RevLinear, self).__init__()\n",
    "        self.in_features = in_features\n",
    "        self.out_features = out_features\n",
    "        \n",
    "        \n",
    "        if A is None:\n",
    "            self.A = nn.Parameter(torch.rand(out_features, in_features).T)\n",
    "            \n",
    "        else:\n",
    "            self.A = A\n",
    "            \n",
    "        if bias:\n",
    "            self.bias = nn.Parameter(torch.zeros(out_features))\n",
    "        else:\n",
    "            self.bias = None\n",
    "        \n",
    "    def forward(self, x, inverse=False):\n",
    "\n",
    "        if not inverse:\n",
    "            x = x @ self.A\n",
    "\n",
    "            if self.bias is not None:\n",
    "                x = x + self.bias\n",
    "            return x\n",
    "        else:\n",
    "            if self.bias is not None:\n",
    "                x = x - self.bias   \n",
    "            x = x @ torch.linalg.pinv(self.A)\n",
    "            return x\n",
    "    def create_diff_matrix(n):\n",
    "        def create_diff_line(n, i, j):\n",
    "            t = torch.zeros(n)\n",
    "            t[i] = 1\n",
    "            t[j] = -1\n",
    "            return t\n",
    "        diff_matrix =  torch.stack([create_diff_line(n, i, j) for i in range(n) for j in range(i+1, n)]).T\n",
    "        \n",
    "        diff_matrix = torch.cat([diff_matrix, torch.ones(n).reshape(-1,1)/n], dim=1)\n",
    "        \n",
    "        return diff_matrix\n",
    "        \n",
    "\n",
    "\n",
    "b = 4\n",
    "input_size = 10\n",
    "\n",
    "\n",
    "input_matrix = torch.randint(0, 10, (input_size,)).to(torch.float32)\n",
    "# input_matrix = torch.randn(input_size).to(torch.float32)\n",
    "print(input_matrix)\n",
    "\n",
    "A = RevLinear.create_diff_matrix(input_size)\n",
    "\n",
    "rv = RevLinear(input_size, A.shape[0], bias=False, A = A)\n",
    "\n",
    "rv2 = RevLinear(10, 10)\n",
    "\n",
    "\n",
    "\n",
    "out = rv(input_matrix)\n",
    "\n",
    "print(out)\n",
    "\n",
    "# out = rv2(out)\n",
    "\n",
    "# print(out)\n",
    "\n",
    "\n",
    "out = rv(out, inverse=True)\n",
    "\n",
    "print((out-input_matrix).abs().mean())\n",
    "\n",
    "print(out)\n",
    "\n",
    "\n"
   ]
  },
  {
   "cell_type": "code",
   "execution_count": 43,
   "metadata": {},
   "outputs": [
    {
     "data": {
      "text/plain": [
       "[<matplotlib.lines.Line2D at 0x7b76d9151960>]"
      ]
     },
     "execution_count": 43,
     "metadata": {},
     "output_type": "execute_result"
    },
    {
     "data": {
      "image/png": "[encoded data removed]",
      "text/plain": [
       "<Figure size 640x480 with 1 Axes>"
      ]
     },
     "metadata": {},
     "output_type": "display_data"
    }
   ],
   "source": [
    "b = 4\n",
    "input_size = 100\n",
    "\n",
    "import matplotlib.pyplot as plt\n",
    "\n",
    "\n",
    "input_matrix = torch.randn((1000, input_size)).to(torch.float32)\n",
    "# input_matrix = torch.randn(input_size).to(torch.float32)\n",
    "\n",
    "l = []\n",
    "\n",
    "for k in range(110):\n",
    "    \n",
    "    rv = RevLinear(input_size, k, bias=False)\n",
    "    \n",
    "    out = rv(input_matrix)\n",
    "\n",
    "\n",
    "    out = rv(out, inverse=True)\n",
    "    \n",
    "    l.append(((out-input_matrix).abs().square().mean()/input_matrix.std()).item())\n",
    "\n",
    "    \n",
    "plt.plot(l)\n",
    "plt.plot([0, 100], [1, 0])\n",
    "\n"
   ]
  }
 ],
 "metadata": {
  "kernelspec": {
   "display_name": "Python 3",
   "language": "python",
   "name": "python3"
  },
  "language_info": {
   "codemirror_mode": {
    "name": "ipython",
    "version": 3
   },
   "file_extension": ".py",
   "mimetype": "text/x-python",
   "name": "python",
   "nbconvert_exporter": "python",
   "pygments_lexer": "ipython3",
   "version": "3.10.12"
  }
 },
 "nbformat": 4,
 "nbformat_minor": 2
}
